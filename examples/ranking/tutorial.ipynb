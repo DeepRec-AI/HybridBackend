{
 "cells": [
  {
   "cell_type": "markdown",
   "metadata": {},
   "source": [
    "# HybridBackend Tutorial: Simple ranking model\n",
    "\n",
    "This tutorial shows how to use HybridBackend to train a simple ranking model."
   ]
  },
  {
   "cell_type": "markdown",
   "metadata": {},
   "source": [
    "## 1. Fetch data\n",
    "\n",
    "In this tutorial, we use Parquet version of [criteo terabyte dataset](https://ailab.criteo.com/download-criteo-1tb-click-logs-dataset).\n",
    "\n",
    "We assume that the parquet files are on [OSS](https://www.aliyun.com/product/oss),\n",
    "you can change below environment\n",
    "variables to your dataset."
   ]
  },
  {
   "cell_type": "code",
   "execution_count": 1,
   "metadata": {},
   "outputs": [
    {
     "name": "stdout",
     "output_type": "stream",
     "text": [
      "env: S3_ENDPOINT=oss-cn-shanghai-internal.aliyuncs.com\n",
      "env: AWS_ACCESS_KEY_ID=my_id\n",
      "env: AWS_SECRET_ACCESS_KEY=my_secret\n",
      "env: S3_ADDRESSING_STYLE=virtual\n"
     ]
    }
   ],
   "source": [
    "%env S3_ENDPOINT=oss-cn-shanghai-internal.aliyuncs.com\n",
    "%env AWS_ACCESS_KEY_ID=my_id\n",
    "%env AWS_SECRET_ACCESS_KEY=my_secret\n",
    "%env S3_ADDRESSING_STYLE=virtual"
   ]
  },
  {
   "cell_type": "code",
   "execution_count": 4,
   "metadata": {},
   "outputs": [
    {
     "ename": "ModuleNotFoundError",
     "evalue": "No module named 'tensorflow'",
     "output_type": "error",
     "traceback": [
      "\u001b[0;31m---------------------------------------------------------------------------\u001b[0m",
      "\u001b[0;31mModuleNotFoundError\u001b[0m                       Traceback (most recent call last)",
      "\u001b[0;32m<ipython-input-4-d26c85ea6d0a>\u001b[0m in \u001b[0;36m<module>\u001b[0;34m\u001b[0m\n\u001b[0;32m----> 1\u001b[0;31m \u001b[0;32mimport\u001b[0m \u001b[0mtensorflow\u001b[0m \u001b[0;32mas\u001b[0m \u001b[0mtf\u001b[0m\u001b[0;34m\u001b[0m\u001b[0m\n\u001b[0m\u001b[1;32m      2\u001b[0m \u001b[0;32mimport\u001b[0m \u001b[0mhybridbackend\u001b[0m\u001b[0;34m.\u001b[0m\u001b[0mtensorflow\u001b[0m \u001b[0;32mas\u001b[0m \u001b[0mhb\u001b[0m\u001b[0;34m\u001b[0m\u001b[0m\n\u001b[1;32m      3\u001b[0m \u001b[0;34m\u001b[0m\u001b[0m\n\u001b[1;32m      4\u001b[0m \u001b[0;32mdef\u001b[0m \u001b[0mmake_input\u001b[0m\u001b[0;34m(\u001b[0m\u001b[0mself\u001b[0m\u001b[0;34m,\u001b[0m \u001b[0minput_files\u001b[0m\u001b[0;34m,\u001b[0m \u001b[0mbatch_size\u001b[0m\u001b[0;34m)\u001b[0m\u001b[0;34m:\u001b[0m\u001b[0;34m\u001b[0m\u001b[0m\n\u001b[1;32m      5\u001b[0m   \u001b[0;32mwith\u001b[0m \u001b[0mtf\u001b[0m\u001b[0;34m.\u001b[0m\u001b[0mdevice\u001b[0m\u001b[0;34m(\u001b[0m\u001b[0;34m'/cpu:0'\u001b[0m\u001b[0;34m)\u001b[0m\u001b[0;34m:\u001b[0m\u001b[0;34m\u001b[0m\u001b[0m\n",
      "\u001b[0;31mModuleNotFoundError\u001b[0m: No module named 'tensorflow'"
     ]
    }
   ],
   "source": [
    "import tensorflow as tf\n",
    "import hybridbackend.tensorflow as hb\n",
    "\n",
    "def make_input(self, input_files, batch_size):\n",
    "  with tf.device('/cpu:0'):\n",
    "    ds = hb.data.ParquetDataset(\n",
    "      input_files, batch_size=batch_size, drop_remainder=True)\n",
    "    ds = ds.apply(hb.data.to_sparse())\n",
    "    ds = ds.prefetch(1)\n",
    "  return ds"
   ]
  },
  {
   "cell_type": "code",
   "execution_count": null,
   "metadata": {},
   "outputs": [],
   "source": []
  }
 ],
 "metadata": {
  "interpreter": {
   "hash": "11325ad6ff2151702fdf2e630d373c9c1132c4b70289fb211a76d62cc32462df"
  },
  "kernelspec": {
   "display_name": "Python 3",
   "language": "python",
   "name": "python3"
  },
  "language_info": {
   "codemirror_mode": {
    "name": "ipython",
    "version": 3
   },
   "file_extension": ".py",
   "mimetype": "text/x-python",
   "name": "python",
   "nbconvert_exporter": "python",
   "pygments_lexer": "ipython3",
   "version": "3.6.5"
  }
 },
 "nbformat": 4,
 "nbformat_minor": 2
}
